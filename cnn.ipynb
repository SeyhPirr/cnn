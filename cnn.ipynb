{
 "cells": [
  {
   "cell_type": "markdown",
   "metadata": {},
   "source": [
    "Convolutional neural networks (CNN), resimleri ve videoları işleyen bir yapay sinir ağı çeşididir. CNN'ler, girdi verisinden özellikler çıkarmak için birkaç katman kullanır. Her katmanda, bir filtre veya çekirdek girdinin üzerinde kayar ve her yerde bir çarpma işlemi yapar. Bu, filtrenin girdide nerede olduğunu gösteren bir özellik haritası oluşturur. Sonra, özellik haritasını küçültmek için bir fonksiyon uygulanır. Bu, havuzlama denir. CNN'ler, ağın çıktısı ile istenen çıktı arasındaki farkı azaltan bir yöntemle filtreleri ve ağırlıkları öğrenirler. CNN'ler resim ve video tanıma, sınıflandırma, bölütleme ve analizi gibi işlerde kullanılır. Ayrıca doğal dil işleme ve diğer alanlarda da kullanılır.\n"
   ]
  }
 ],
 "metadata": {
  "language_info": {
   "name": "python"
  }
 },
 "nbformat": 4,
 "nbformat_minor": 2
}
