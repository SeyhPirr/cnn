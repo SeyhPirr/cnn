{
 "cells": [
  {
   "cell_type": "markdown",
   "metadata": {},
   "source": [
    "Convolutional neural networks (CNN), görüntü ve video gibi ızgara şeklindeki verileri işlemek için tasarlanmış bir yapay sinir ağı türüdür. CNN'ler, girdi verilerinden özellik çıkarmak için evrişim ve havuzlama işlemleri uygulayan bir dizi katman kullanır. Evrişim, bir filtre veya çekirdeği girdinin üzerinde kaydırarak ve her pozisyonda nokta çarpımını hesaplayarak matematiksel bir işlemdir. Bu, filtrenin deseninin girdideki varlığını temsil eden bir özellik haritası üretir. Havuzlama, bir fonksiyon (örneğin maksimum veya ortalama) uygulayarak özellik haritasının boyutunu ve karmaşıklığını azaltan bir örnekleme işlemidir. CNN'ler, ağın çıktısı ile istenen çıktı arasındaki hatayı ölçen bir kayıp fonksiyonunu en aza indiren geri yayılım ve gradyan inişi yoluyla optimal filtreleri ve ağırlıkları öğrenirler. CNN'ler görüntü ve video tanıma, sınıflandırma, bölütleme ve analizi, doğal dil işleme ve diğer alanlarda yaygın olarak kullanılır.\n"
   ]
  }
 ],
 "metadata": {
  "language_info": {
   "name": "python"
  }
 },
 "nbformat": 4,
 "nbformat_minor": 2
}
